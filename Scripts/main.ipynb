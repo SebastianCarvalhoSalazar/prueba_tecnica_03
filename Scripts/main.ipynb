{
 "cells": [
  {
   "cell_type": "markdown",
   "metadata": {},
   "source": [
    "<div style=\"text-align: center;\">\n",
    "  <h2><strong></strong></h2>\n",
    "</div>\n",
    "\n",
    "<center>\n",
    "\n",
    "## **Prueba Técnica Novaventa**\n",
    "## **Sistema de Recomendaciones: Hibrido**\n",
    "\n",
    "**Autor:** Sebastian Carvalho Salazar  \n",
    "\n",
    "</center>"
   ]
  },
  {
   "cell_type": "markdown",
   "metadata": {},
   "source": [
    "## Librerias"
   ]
  },
  {
   "cell_type": "code",
   "execution_count": 79,
   "metadata": {},
   "outputs": [],
   "source": [
    "import pandas as pd\n",
    "import matplotlib.pyplot as plt\n",
    "from sklearn.metrics.pairwise import cosine_similarity\n",
    "from sklearn.decomposition import IncrementalPCA\n",
    "from scipy import sparse\n",
    "import time\n",
    "import numpy as np\n",
    "import seaborn as sns"
   ]
  },
  {
   "cell_type": "markdown",
   "metadata": {},
   "source": [
    "## Rutas"
   ]
  },
  {
   "cell_type": "code",
   "execution_count": 54,
   "metadata": {},
   "outputs": [],
   "source": [
    "import yaml\n",
    "import os\n",
    "\n",
    "# Obtener la ruta absoluta del archivo paths.yaml\n",
    "current_dir = current_dir = os.getcwd()\n",
    "config_path = os.path.join(current_dir, '..', 'Config', 'paths.yaml')\n",
    "\n",
    "# Cargar el contenido del archivo YAML\n",
    "with open(config_path, 'r') as file:\n",
    "    paths = yaml.safe_load(file)"
   ]
  },
  {
   "cell_type": "markdown",
   "metadata": {},
   "source": [
    "## Datos"
   ]
  },
  {
   "cell_type": "code",
   "execution_count": 29,
   "metadata": {},
   "outputs": [],
   "source": [
    "path_1 = paths['StagingZone']['dataset_1']\n",
    "dataset_1 = pd.read_csv(path_1, sep=\";\").drop(['Unnamed: 0'], axis=1)\n",
    "\n",
    "path_2 = paths['StagingZone']['dataset_2']\n",
    "dataset_2 = pd.read_csv(path_2, sep=\";\").drop(['Unnamed: 0'], axis=1)\n",
    "\n",
    "path_3 = paths['StagingZone']['productos']\n",
    "productos = pd.read_csv(path_3, sep=\";\").drop(['Unnamed: 0'], axis=1)\n",
    "\n",
    "path_4 = paths['TrustZone']['PCA_UBCF']\n",
    "user_item_matrix_reduced = pd.read_csv(path_4, sep=\";\")\n",
    "user_item_matrix_reduced = user_item_matrix_reduced.set_index(['UUID_CLIENTE_CONSUMIDOR'])\n",
    "\n",
    "path_5 = paths['TrustZone']['PCA_IBCF']\n",
    "item_user_matrix_reduced = pd.read_csv(path_5, sep=\";\")\n",
    "\n",
    "path_6 = paths['TrustZone']['CS_IBCF']\n",
    "item_similarity_matrix = pd.read_parquet(path_6)\n",
    "\n",
    "path_7 = paths['StagingZone']['user_item_matrix']\n",
    "user_item_matrix = pd.read_parquet(path_7)"
   ]
  },
  {
   "cell_type": "markdown",
   "metadata": {},
   "source": [
    "## Sistema de Recomendaciones"
   ]
  },
  {
   "cell_type": "code",
   "execution_count": 30,
   "metadata": {},
   "outputs": [],
   "source": [
    "%run models.ipynb"
   ]
  },
  {
   "cell_type": "code",
   "execution_count": 32,
   "metadata": {},
   "outputs": [
    {
     "name": "stdout",
     "output_type": "stream",
     "text": [
      "USER_ID: 7E9DB0C7CD200125680A180326615250 \n",
      "\n",
      "Productos Recomendados: \n",
      "\n"
     ]
    },
    {
     "data": {
      "text/html": [
       "<div>\n",
       "<style scoped>\n",
       "    .dataframe tbody tr th:only-of-type {\n",
       "        vertical-align: middle;\n",
       "    }\n",
       "\n",
       "    .dataframe tbody tr th {\n",
       "        vertical-align: top;\n",
       "    }\n",
       "\n",
       "    .dataframe thead th {\n",
       "        text-align: right;\n",
       "    }\n",
       "</style>\n",
       "<table border=\"1\" class=\"dataframe\">\n",
       "  <thead>\n",
       "    <tr style=\"text-align: right;\">\n",
       "      <th></th>\n",
       "      <th>COD_PRODUCTO</th>\n",
       "      <th>CATEGORIA</th>\n",
       "    </tr>\n",
       "  </thead>\n",
       "  <tbody>\n",
       "    <tr>\n",
       "      <th>0</th>\n",
       "      <td>2</td>\n",
       "      <td>Galletas</td>\n",
       "    </tr>\n",
       "    <tr>\n",
       "      <th>1</th>\n",
       "      <td>65</td>\n",
       "      <td>Golosinas</td>\n",
       "    </tr>\n",
       "    <tr>\n",
       "      <th>2</th>\n",
       "      <td>19</td>\n",
       "      <td>Galletas</td>\n",
       "    </tr>\n",
       "    <tr>\n",
       "      <th>3</th>\n",
       "      <td>307</td>\n",
       "      <td>Alimentos Larga Vida Y Conservas</td>\n",
       "    </tr>\n",
       "    <tr>\n",
       "      <th>4</th>\n",
       "      <td>24</td>\n",
       "      <td>Golosinas</td>\n",
       "    </tr>\n",
       "    <tr>\n",
       "      <th>5</th>\n",
       "      <td>10</td>\n",
       "      <td>Galletas</td>\n",
       "    </tr>\n",
       "  </tbody>\n",
       "</table>\n",
       "</div>"
      ],
      "text/plain": [
       "   COD_PRODUCTO                         CATEGORIA\n",
       "0             2                          Galletas\n",
       "1            65                         Golosinas\n",
       "2            19                          Galletas\n",
       "3           307  Alimentos Larga Vida Y Conservas\n",
       "4            24                         Golosinas\n",
       "5            10                          Galletas"
      ]
     },
     "execution_count": 32,
     "metadata": {},
     "output_type": "execute_result"
    }
   ],
   "source": [
    "user_id = user_item_matrix_reduced.sample(1).index[0]\n",
    "\n",
    "print(f\"USER_ID: {user_id} \\n\")\n",
    "\n",
    "top_k_users, recommended_products = recommend_products_ubcf(user_id, user_item_matrix, user_item_matrix_reduced)\n",
    "top_k_items, recommendations = recommend_products_ibcf(user_id, user_item_matrix, item_similarity_matrix)\n",
    "\n",
    "def union_recommendations(user_based_recs, item_based_recs):\n",
    "    combined_recs = list(set(user_based_recs) | set(item_based_recs))\n",
    "    return combined_recs\n",
    "\n",
    "recommendations_union = union_recommendations(recommended_products, recommendations)\n",
    "\n",
    "print(f\"Productos Recomendados: \\n\")\n",
    "\n",
    "productos[productos['COD_PRODUCTO'].isin(recommendations_union)].reset_index(drop=True)"
   ]
  },
  {
   "cell_type": "code",
   "execution_count": 33,
   "metadata": {},
   "outputs": [
    {
     "data": {
      "text/html": [
       "<div>\n",
       "<style scoped>\n",
       "    .dataframe tbody tr th:only-of-type {\n",
       "        vertical-align: middle;\n",
       "    }\n",
       "\n",
       "    .dataframe tbody tr th {\n",
       "        vertical-align: top;\n",
       "    }\n",
       "\n",
       "    .dataframe thead th {\n",
       "        text-align: right;\n",
       "    }\n",
       "</style>\n",
       "<table border=\"1\" class=\"dataframe\">\n",
       "  <thead>\n",
       "    <tr style=\"text-align: right;\">\n",
       "      <th></th>\n",
       "      <th>UUID_CLIENTE_CONSUMIDOR</th>\n",
       "      <th>DEPARTAMENTO</th>\n",
       "      <th>CIUDAD</th>\n",
       "      <th>GENERO_DIM_CLIENTE</th>\n",
       "      <th>FECHANACIMIENTO_DIM_CLIENTE</th>\n",
       "      <th>EDAD</th>\n",
       "    </tr>\n",
       "  </thead>\n",
       "  <tbody>\n",
       "    <tr>\n",
       "      <th>73602</th>\n",
       "      <td>7E9DB0C7CD200125680A180326615250</td>\n",
       "      <td>BOGOTÁ, D.C.</td>\n",
       "      <td>BOGOTÁ, D.C.</td>\n",
       "      <td>F</td>\n",
       "      <td>1987-09-09</td>\n",
       "      <td>36.0</td>\n",
       "    </tr>\n",
       "    <tr>\n",
       "      <th>130436</th>\n",
       "      <td>7E9DB0C7CD200125680A180326615250</td>\n",
       "      <td>BOGOTÁ, D.C.</td>\n",
       "      <td>BOGOTÁ, D.C.</td>\n",
       "      <td>F</td>\n",
       "      <td>1987-09-09</td>\n",
       "      <td>36.0</td>\n",
       "    </tr>\n",
       "    <tr>\n",
       "      <th>173143</th>\n",
       "      <td>7E9DB0C7CD200125680A180326615250</td>\n",
       "      <td>BOGOTÁ, D.C.</td>\n",
       "      <td>BOGOTÁ, D.C.</td>\n",
       "      <td>F</td>\n",
       "      <td>1987-09-09</td>\n",
       "      <td>36.0</td>\n",
       "    </tr>\n",
       "  </tbody>\n",
       "</table>\n",
       "</div>"
      ],
      "text/plain": [
       "                 UUID_CLIENTE_CONSUMIDOR  DEPARTAMENTO        CIUDAD  \\\n",
       "73602   7E9DB0C7CD200125680A180326615250  BOGOTÁ, D.C.  BOGOTÁ, D.C.   \n",
       "130436  7E9DB0C7CD200125680A180326615250  BOGOTÁ, D.C.  BOGOTÁ, D.C.   \n",
       "173143  7E9DB0C7CD200125680A180326615250  BOGOTÁ, D.C.  BOGOTÁ, D.C.   \n",
       "\n",
       "       GENERO_DIM_CLIENTE FECHANACIMIENTO_DIM_CLIENTE  EDAD  \n",
       "73602                   F                  1987-09-09  36.0  \n",
       "130436                  F                  1987-09-09  36.0  \n",
       "173143                  F                  1987-09-09  36.0  "
      ]
     },
     "execution_count": 33,
     "metadata": {},
     "output_type": "execute_result"
    }
   ],
   "source": [
    "dataset_2[dataset_2['UUID_CLIENTE_CONSUMIDOR']==user_id]"
   ]
  },
  {
   "cell_type": "markdown",
   "metadata": {},
   "source": [
    "## Rendimiento"
   ]
  },
  {
   "cell_type": "code",
   "execution_count": 11,
   "metadata": {},
   "outputs": [
    {
     "name": "stdout",
     "output_type": "stream",
     "text": [
      "Average execution time over 100 runs: 3.337586762905121 ± 1.630285665153035 seconds\n"
     ]
    }
   ],
   "source": [
    "def measure_execution_time():\n",
    "    start_time = time.time()\n",
    "    \n",
    "    user_id = user_item_matrix_reduced.sample(1).index[0]\n",
    "    top_k_users, recommended_products = recommend_products_ubcf(user_id, user_item_matrix, user_item_matrix_reduced)\n",
    "    top_k_items, recommendations = recommend_products_ibcf(user_id, user_item_matrix, item_similarity_matrix)\n",
    "    recommendations_union = union_recommendations(recommended_products, recommendations)\n",
    "    \n",
    "    end_time = time.time()\n",
    "    return end_time - start_time\n",
    "\n",
    "execution_times = []\n",
    "\n",
    "for _ in range(100):\n",
    "    execution_time = measure_execution_time()\n",
    "    execution_times.append(execution_time)\n",
    "\n",
    "average_time = np.mean(execution_times)\n",
    "std_time = np.std(execution_times)\n",
    "\n",
    "print(f\"Average execution time over 100 runs: {average_time} ± {std_time} seconds\")"
   ]
  },
  {
   "cell_type": "markdown",
   "metadata": {},
   "source": [
    "## Pruebas A/B"
   ]
  },
  {
   "cell_type": "code",
   "execution_count": 95,
   "metadata": {},
   "outputs": [],
   "source": [
    "# Seleccionar una muestra aleatoria de usuarios\n",
    "users = dataset_1['UUID_CLIENTE_CONSUMIDOR'].drop_duplicates()\n",
    "sample_users = pd.DataFrame(users.sample(frac=0.01, random_state=42))  # 1% de los usuarios\n",
    "\n",
    "# Asignar aleatoriamente a los usuarios a los grupos A y B\n",
    "sample_users['group'] = np.random.choice(['A', 'B'], size=len(sample_users))\n",
    "\n",
    "def recommend_system_A(user_id):\n",
    "    _ , recommended_products = recommend_products_ubcf(user_id, user_item_matrix, user_item_matrix_reduced)\n",
    "    return recommended_products\n",
    "    \n",
    "\n",
    "def recommend_system_B(user_id):\n",
    "    _ , recommendations = recommend_products_ibcf(user_id, user_item_matrix, item_similarity_matrix)\n",
    "    return recommendations\n",
    "\n",
    "sample_users['recommendations'] = sample_users.apply(\n",
    "    lambda row: recommend_system_A(row['UUID_CLIENTE_CONSUMIDOR']) if row['group'] == 'A' else recommend_system_B(row['UUID_CLIENTE_CONSUMIDOR']),\n",
    "    axis=1\n",
    ")\n",
    "\n",
    "# Calcular la métrica de desempeño\n",
    "def calculate_performance_metric(recommendations):\n",
    "    # Filtrar el DataFrame de productos para obtener solo los recomendados\n",
    "    recommended_products_df = dataset_1[dataset_1['COD_PRODUCTO'].isin(recommendations)]\n",
    "    # Sumar el valor de 'VENTA_BRUTA_CON_IVA' para los productos recomendados\n",
    "    total_value = recommended_products_df['VENTA_BRUTA_CON_IVA'].sum()\n",
    "    return total_value\n",
    "\n",
    "sample_users['performance_metric'] = sample_users['recommendations'].apply(calculate_performance_metric)\n",
    "\n",
    "# Calcular la métrica promedio para cada grupo\n",
    "group_performance = sample_users.groupby('group')['performance_metric'].mean()\n",
    "\n",
    "if group_performance['B'] > group_performance['A']:\n",
    "    print('El sistema de recomendación B es mejor. Considere implementarlo.')\n",
    "else:\n",
    "    print('El sistema de recomendación A es mejor o no hay diferencias significativas.')\n",
    "\n",
    "group_performance = pd.DataFrame(group_performance)\n",
    "\n",
    "sample_users.to_csv(paths['Test']['AB_TEST_DETAIL'], sep=\";\", index=False)\n",
    "group_performance.to_csv(paths['Test']['AB_TEST_RESUM'], sep=\";\")\n",
    "\n",
    "pd.set_option('display.float_format', lambda x: '%.0f' % x)\n",
    "group_performance"
   ]
  },
  {
   "cell_type": "code",
   "execution_count": null,
   "metadata": {},
   "outputs": [
    {
     "name": "stdout",
     "output_type": "stream",
     "text": [
      "B - A = 2586555.0$\n"
     ]
    }
   ],
   "source": [
    "print(f\"B - A = {np.round(group_performance.iloc[1] - group_performance.iloc[0],0)[0]}$\")"
   ]
  },
  {
   "cell_type": "code",
   "execution_count": 109,
   "metadata": {},
   "outputs": [],
   "source": [
    "# Definir una función para eliminar outliers utilizando el rango intercuartil\n",
    "def eliminar_outliers_iqr(df, columna):\n",
    "    Q1 = df[columna].quantile(0.25)\n",
    "    Q3 = df[columna].quantile(0.75)\n",
    "    IQR = Q3 - Q1\n",
    "    lower_bound = Q1 - 1.5 * IQR\n",
    "    upper_bound = Q3 + 1.5 * IQR\n",
    "    return df[(df[columna] >= lower_bound) & (df[columna] <= upper_bound)]\n",
    "\n",
    "sample_users = pd.read_csv(paths['Test']['AB_TEST_DETAIL'], sep=\";\")\n",
    "\n",
    "# Aplicar la función para eliminar outliers en la columna 'EDAD'\n",
    "dataset_a_sin_outliers = eliminar_outliers_iqr(sample_users[sample_users['group']=='A'], 'performance_metric')\n",
    "dataset_b_sin_outliers = eliminar_outliers_iqr(sample_users[sample_users['group']=='B'], 'performance_metric')\n",
    "# Unir los datasets de nuevo\n",
    "dataset_unido_sin_outliers = pd.concat([dataset_a_sin_outliers, dataset_b_sin_outliers])"
   ]
  },
  {
   "cell_type": "code",
   "execution_count": 119,
   "metadata": {},
   "outputs": [
    {
     "data": {
      "image/png": "[encoded data removed]",
      "text/plain": [
       "<Figure size 1200x600 with 1 Axes>"
      ]
     },
     "metadata": {},
     "output_type": "display_data"
    },
    {
     "name": "stdout",
     "output_type": "stream",
     "text": [
      "Estadístico de Wilcoxon: 5541.0\n",
      "Valor p: 0.012516080305270464\n",
      "Hay evidencia suficiente para rechazar la hipótesis nula: El valor del grupo B es significativamente mayor que el del grupo A.\n"
     ]
    }
   ],
   "source": [
    "from scipy.stats import wilcoxon\n",
    "\n",
    "metrica_a = dataset_a_sin_outliers['performance_metric'].values\n",
    "metrica_b = dataset_b_sin_outliers['performance_metric'].values\n",
    "\n",
    "# Calcular los prmedios\n",
    "mean_a = np.mean(metrica_a)\n",
    "mean_b = np.mean(metrica_b)\n",
    "\n",
    "if len(metrica_a) > len(metrica_b):\n",
    "    metrica_a = metrica_a[:len(metrica_b)]\n",
    "else:\n",
    "    metrica_b = metrica_b[:len(metrica_a)]\n",
    "\n",
    "# Distribución de la edad por género sin outliers\n",
    "plt.figure(figsize=(12, 6))\n",
    "sns.histplot(data=dataset_unido_sin_outliers, x='performance_metric', hue='group', kde=True, element='step', stat='density', common_norm=False, palette='dark')\n",
    "plt.axvline(mean_a, color='blue', linestyle='dashed', linewidth=1, label=f'Mediana Hombres: {mean_a:.2f}',lw=2)\n",
    "plt.axvline(mean_b, color='orange', linestyle='dashed', linewidth=1, label=f'Mediana Mujeres: {mean_b:.2f}', lw=2)\n",
    "plt.title('Distribución del valor agregado de los productos sugeridos por cliente para el grupo A y B')\n",
    "plt.xlabel('Valor')\n",
    "plt.ylabel('Densidad')\n",
    "plt.grid(True)\n",
    "plt.show()\n",
    "\n",
    "# Aplicar la prueba de Wilcoxon para comparar las métricas\n",
    "stat, p_value = wilcoxon(metrica_a, metrica_b, alternative='less')\n",
    "\n",
    "# Mostrar resultados de la prueba de Wilcoxon\n",
    "print(f'Estadístico de Wilcoxon: {stat}')\n",
    "print(f'Valor p: {p_value}')\n",
    "\n",
    "# Interpretación del valor p con un nivel de confianza del 95%\n",
    "if p_value < 0.05:\n",
    "    print(\"Hay evidencia suficiente para rechazar la hipótesis nula: El valor del grupo B es significativamente mayor que el del grupo A.\")\n",
    "else:\n",
    "    print(\"No hay evidencia suficiente para rechazar la hipótesis nula: El valor del grupo B no es significativamente mayor que el del grupo A.\")"
   ]
  },
  {
   "cell_type": "markdown",
   "metadata": {},
   "source": [
    "En conclusión, se prefiere el modelo A debido a que genera un margen similar de ganancias al modelo B y, además, presenta mayor variabilidad en la cantidad de productos sugeridos. Esta mayor variabilidad es beneficiosa para un e-commerce porque ofrece a los clientes una experiencia de compra más dinámica y personalizada, lo cual puede aumentar la satisfacción del cliente y las probabilidades de compra repetida. Además, un rango más amplio de recomendaciones permite al negocio identificar patrones de preferencias más diversos, adaptarse mejor a diferentes segmentos de mercado y aprovechar oportunidades de ventas adicionales a través de la exposición a productos variados. Por lo tanto, el modelo A no solo mantiene un rendimiento financiero comparable al modelo B, sino que también contribuye a una estrategia de ventas más flexible y potencialmente más rentable a largo plazo. Tambien es posible obtar por una estrategia hibrida A-B."
   ]
  },
  {
   "cell_type": "markdown",
   "metadata": {},
   "source": [
    "# FIN\n",
    "---"
   ]
  }
 ],
 "metadata": {
  "kernelspec": {
   "display_name": "PruebaTecnicaNovaventa",
   "language": "python",
   "name": "python3"
  },
  "language_info": {
   "codemirror_mode": {
    "name": "ipython",
    "version": 3
   },
   "file_extension": ".py",
   "mimetype": "text/x-python",
   "name": "python",
   "nbconvert_exporter": "python",
   "pygments_lexer": "ipython3",
   "version": "3.8.0"
  }
 },
 "nbformat": 4,
 "nbformat_minor": 2
}
