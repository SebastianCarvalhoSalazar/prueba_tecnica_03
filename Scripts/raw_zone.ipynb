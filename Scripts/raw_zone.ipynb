{
 "cells": [
  {
   "cell_type": "markdown",
   "metadata": {},
   "source": [
    "<div style=\"text-align: center;\">\n",
    "  <h2><strong></strong></h2>\n",
    "</div>\n",
    "\n",
    "<center>\n",
    "\n",
    "## **Prueba Técnica Novaventa**\n",
    "## **Staging Zone**\n",
    "\n",
    "**Autor:** Sebastian Carvalho Salazar  \n",
    "\n",
    "</center>"
   ]
  },
  {
   "cell_type": "markdown",
   "metadata": {},
   "source": [
    "## Librerias"
   ]
  },
  {
   "cell_type": "code",
   "execution_count": 28,
   "metadata": {},
   "outputs": [],
   "source": [
    "import numpy as np\n",
    "import pandas as pd\n",
    "from datetime import date"
   ]
  },
  {
   "cell_type": "markdown",
   "metadata": {},
   "source": [
    "## Rutas"
   ]
  },
  {
   "cell_type": "code",
   "execution_count": 29,
   "metadata": {},
   "outputs": [],
   "source": [
    "import yaml\n",
    "import os\n",
    "\n",
    "# Obtener la ruta absoluta del archivo paths.yaml\n",
    "current_dir = current_dir = os.getcwd()\n",
    "config_path = os.path.join(current_dir, '..', 'Config', 'paths.yaml')\n",
    "\n",
    "# Cargar el contenido del archivo YAML\n",
    "with open(config_path, 'r') as file:\n",
    "    paths = yaml.safe_load(file)"
   ]
  },
  {
   "cell_type": "markdown",
   "metadata": {},
   "source": [
    "## Datos"
   ]
  },
  {
   "cell_type": "code",
   "execution_count": 30,
   "metadata": {},
   "outputs": [],
   "source": [
    "path_1 = paths['RawZone']['dataset_1']\n",
    "dataset_1 = pd.read_csv(path_1)\n",
    "\n",
    "path_2 = paths['RawZone']['dataset_2']\n",
    "dataset_2 = pd.read_csv(path_2)\n",
    "\n",
    "productos = dataset_1[['COD_PRODUCTO',\t'CATEGORIA']].drop_duplicates(subset=['COD_PRODUCTO'])"
   ]
  },
  {
   "cell_type": "code",
   "execution_count": 31,
   "metadata": {},
   "outputs": [
    {
     "name": "stdout",
     "output_type": "stream",
     "text": [
      "* Numero de (Registros,Columnas) en Dataset Sample 1: (231000, 7)\n",
      "    - Numero de clientes: 231000\n",
      "* Numero de (Registros,Columnas) en Dataset Sample 2: (231000, 5)\n",
      "    - Numero de clientes: 231000\n"
     ]
    }
   ],
   "source": [
    "print(f\"* Numero de (Registros,Columnas) en Dataset Sample 1: {dataset_1.shape}\")\n",
    "print(f\"    - Numero de clientes: {len(dataset_1.index.unique())}\")\n",
    "print(f\"* Numero de (Registros,Columnas) en Dataset Sample 2: {dataset_2.shape}\")\n",
    "print(f\"    - Numero de clientes: {len(dataset_2.index.unique())}\")"
   ]
  },
  {
   "cell_type": "code",
   "execution_count": 32,
   "metadata": {},
   "outputs": [
    {
     "data": {
      "text/plain": [
       "UUID_CLIENTE_CONSUMIDOR       0\n",
       "PEDIDO                        0\n",
       "FECHA_SOLUCION                0\n",
       "COD_PRODUCTO                  0\n",
       "CATEGORIA                  1042\n",
       "UNIDADES_BRUTAS               0\n",
       "VENTA_BRUTA_CON_IVA           0\n",
       "dtype: int64"
      ]
     },
     "execution_count": 32,
     "metadata": {},
     "output_type": "execute_result"
    }
   ],
   "source": [
    "dataset_1.isna().sum()"
   ]
  },
  {
   "cell_type": "code",
   "execution_count": 33,
   "metadata": {},
   "outputs": [],
   "source": [
    "# Llenar los valores NaN con el primer valor no nulo del grupo\n",
    "dataset_1['CATEGORIA'] = dataset_1.groupby('COD_PRODUCTO')['CATEGORIA'].transform(lambda x: x.fillna(method='ffill').fillna(method='bfill'))\n",
    "# Si aún hay valores NaN, llenarlos con 'Desconocido'\n",
    "dataset_1['CATEGORIA'] = dataset_1['CATEGORIA'].fillna('Desconocido')"
   ]
  },
  {
   "cell_type": "code",
   "execution_count": 34,
   "metadata": {},
   "outputs": [
    {
     "data": {
      "text/plain": [
       "UUID_CLIENTE_CONSUMIDOR    0\n",
       "PEDIDO                     0\n",
       "FECHA_SOLUCION             0\n",
       "COD_PRODUCTO               0\n",
       "CATEGORIA                  0\n",
       "UNIDADES_BRUTAS            0\n",
       "VENTA_BRUTA_CON_IVA        0\n",
       "dtype: int64"
      ]
     },
     "execution_count": 34,
     "metadata": {},
     "output_type": "execute_result"
    }
   ],
   "source": [
    "dataset_1.isna().sum()"
   ]
  },
  {
   "cell_type": "code",
   "execution_count": 35,
   "metadata": {},
   "outputs": [
    {
     "data": {
      "text/plain": [
       "UUID_CLIENTE_CONSUMIDOR            0\n",
       "DEPARTAMENTO                      71\n",
       "CIUDAD                            71\n",
       "GENERO_DIM_CLIENTE             33978\n",
       "FECHANACIMIENTO_DIM_CLIENTE    29441\n",
       "dtype: int64"
      ]
     },
     "execution_count": 35,
     "metadata": {},
     "output_type": "execute_result"
    }
   ],
   "source": [
    "dataset_2.isna().sum()"
   ]
  },
  {
   "cell_type": "code",
   "execution_count": 36,
   "metadata": {},
   "outputs": [],
   "source": [
    "# Llenar los valores NaN con el primer valor no nulo del grupo\n",
    "dataset_2['CIUDAD'] = dataset_2.groupby('UUID_CLIENTE_CONSUMIDOR')['CIUDAD'].transform(lambda x: x.fillna(method='ffill').fillna(method='bfill'))\n",
    "dataset_2['DEPARTAMENTO'] = dataset_2.groupby('UUID_CLIENTE_CONSUMIDOR')['DEPARTAMENTO'].transform(lambda x: x.fillna(method='ffill').fillna(method='bfill'))\n",
    "dataset_2['GENERO_DIM_CLIENTE'] = dataset_2.groupby('UUID_CLIENTE_CONSUMIDOR')['GENERO_DIM_CLIENTE'].transform(lambda x: x.fillna(method='ffill').fillna(method='bfill'))\n",
    "dataset_2['FECHANACIMIENTO_DIM_CLIENTE'] = dataset_2.groupby('UUID_CLIENTE_CONSUMIDOR')['FECHANACIMIENTO_DIM_CLIENTE'].transform(lambda x: x.fillna(method='ffill').fillna(method='bfill'))\n",
    "# Si aún hay valores NaN, llenarlos con 'Desconocido'\n",
    "dataset_2['CIUDAD'] = dataset_2['CIUDAD'].fillna('Desconocido')\n",
    "dataset_2['DEPARTAMENTO'] = dataset_2['DEPARTAMENTO'].fillna('Desconocido')\n",
    "dataset_2['GENERO_DIM_CLIENTE'] = dataset_2['GENERO_DIM_CLIENTE'].fillna('Desconocido')\n",
    "# dataset_2['FECHANACIMIENTO_DIM_CLIENTE'] = dataset_2['FECHANACIMIENTO_DIM_CLIENTE'].fillna('Desconocido')"
   ]
  },
  {
   "cell_type": "code",
   "execution_count": 37,
   "metadata": {},
   "outputs": [
    {
     "data": {
      "text/plain": [
       "UUID_CLIENTE_CONSUMIDOR            0\n",
       "DEPARTAMENTO                       0\n",
       "CIUDAD                             0\n",
       "GENERO_DIM_CLIENTE                 0\n",
       "FECHANACIMIENTO_DIM_CLIENTE    29441\n",
       "dtype: int64"
      ]
     },
     "execution_count": 37,
     "metadata": {},
     "output_type": "execute_result"
    }
   ],
   "source": [
    "dataset_2.isna().sum()"
   ]
  },
  {
   "cell_type": "markdown",
   "metadata": {},
   "source": [
    "## Transformación"
   ]
  },
  {
   "cell_type": "code",
   "execution_count": 38,
   "metadata": {},
   "outputs": [],
   "source": [
    "# Agregar la frecuencia de compra\n",
    "dataset_1['FREQUENCIA_COMPRA'] = dataset_1.groupby(['UUID_CLIENTE_CONSUMIDOR', 'COD_PRODUCTO'])['COD_PRODUCTO'].transform('count')\n",
    "\n",
    "# Crear la matriz de usuarios contra productos basada en la frecuencia de compra\n",
    "user_item_matrix = dataset_1.pivot_table(index='UUID_CLIENTE_CONSUMIDOR', columns='COD_PRODUCTO', values='FREQUENCIA_COMPRA', aggfunc='sum').fillna(0)"
   ]
  },
  {
   "cell_type": "code",
   "execution_count": 39,
   "metadata": {},
   "outputs": [
    {
     "data": {
      "text/html": [
       "<div>\n",
       "<style scoped>\n",
       "    .dataframe tbody tr th:only-of-type {\n",
       "        vertical-align: middle;\n",
       "    }\n",
       "\n",
       "    .dataframe tbody tr th {\n",
       "        vertical-align: top;\n",
       "    }\n",
       "\n",
       "    .dataframe thead th {\n",
       "        text-align: right;\n",
       "    }\n",
       "</style>\n",
       "<table border=\"1\" class=\"dataframe\">\n",
       "  <thead>\n",
       "    <tr style=\"text-align: right;\">\n",
       "      <th>COD_PRODUCTO</th>\n",
       "      <th>2</th>\n",
       "      <th>10</th>\n",
       "      <th>19</th>\n",
       "      <th>24</th>\n",
       "      <th>25</th>\n",
       "      <th>64</th>\n",
       "      <th>65</th>\n",
       "      <th>70</th>\n",
       "      <th>82</th>\n",
       "      <th>87</th>\n",
       "      <th>...</th>\n",
       "      <th>97994</th>\n",
       "      <th>97995</th>\n",
       "      <th>97996</th>\n",
       "      <th>97997</th>\n",
       "      <th>97998</th>\n",
       "      <th>98034</th>\n",
       "      <th>98108</th>\n",
       "      <th>98130</th>\n",
       "      <th>98204</th>\n",
       "      <th>342421</th>\n",
       "    </tr>\n",
       "    <tr>\n",
       "      <th>UUID_CLIENTE_CONSUMIDOR</th>\n",
       "      <th></th>\n",
       "      <th></th>\n",
       "      <th></th>\n",
       "      <th></th>\n",
       "      <th></th>\n",
       "      <th></th>\n",
       "      <th></th>\n",
       "      <th></th>\n",
       "      <th></th>\n",
       "      <th></th>\n",
       "      <th></th>\n",
       "      <th></th>\n",
       "      <th></th>\n",
       "      <th></th>\n",
       "      <th></th>\n",
       "      <th></th>\n",
       "      <th></th>\n",
       "      <th></th>\n",
       "      <th></th>\n",
       "      <th></th>\n",
       "      <th></th>\n",
       "    </tr>\n",
       "  </thead>\n",
       "  <tbody>\n",
       "    <tr>\n",
       "      <th>3232A74E9E5AC632B67F000001615250</th>\n",
       "      <td>0.0</td>\n",
       "      <td>0.0</td>\n",
       "      <td>0.0</td>\n",
       "      <td>0.0</td>\n",
       "      <td>0.0</td>\n",
       "      <td>0.0</td>\n",
       "      <td>0.0</td>\n",
       "      <td>0.0</td>\n",
       "      <td>0.0</td>\n",
       "      <td>0.0</td>\n",
       "      <td>...</td>\n",
       "      <td>0.0</td>\n",
       "      <td>0.0</td>\n",
       "      <td>0.0</td>\n",
       "      <td>0.0</td>\n",
       "      <td>0.0</td>\n",
       "      <td>0.0</td>\n",
       "      <td>0.0</td>\n",
       "      <td>0.0</td>\n",
       "      <td>0.0</td>\n",
       "      <td>0.0</td>\n",
       "    </tr>\n",
       "    <tr>\n",
       "      <th>3232A86CD5286AA5E17F000001615250</th>\n",
       "      <td>0.0</td>\n",
       "      <td>0.0</td>\n",
       "      <td>0.0</td>\n",
       "      <td>0.0</td>\n",
       "      <td>0.0</td>\n",
       "      <td>0.0</td>\n",
       "      <td>0.0</td>\n",
       "      <td>0.0</td>\n",
       "      <td>0.0</td>\n",
       "      <td>0.0</td>\n",
       "      <td>...</td>\n",
       "      <td>0.0</td>\n",
       "      <td>0.0</td>\n",
       "      <td>0.0</td>\n",
       "      <td>0.0</td>\n",
       "      <td>0.0</td>\n",
       "      <td>0.0</td>\n",
       "      <td>0.0</td>\n",
       "      <td>0.0</td>\n",
       "      <td>0.0</td>\n",
       "      <td>0.0</td>\n",
       "    </tr>\n",
       "    <tr>\n",
       "      <th>3232AC8F6D324E487D7F000001615250</th>\n",
       "      <td>0.0</td>\n",
       "      <td>0.0</td>\n",
       "      <td>0.0</td>\n",
       "      <td>0.0</td>\n",
       "      <td>0.0</td>\n",
       "      <td>0.0</td>\n",
       "      <td>0.0</td>\n",
       "      <td>0.0</td>\n",
       "      <td>0.0</td>\n",
       "      <td>0.0</td>\n",
       "      <td>...</td>\n",
       "      <td>0.0</td>\n",
       "      <td>0.0</td>\n",
       "      <td>0.0</td>\n",
       "      <td>0.0</td>\n",
       "      <td>0.0</td>\n",
       "      <td>0.0</td>\n",
       "      <td>0.0</td>\n",
       "      <td>0.0</td>\n",
       "      <td>0.0</td>\n",
       "      <td>0.0</td>\n",
       "    </tr>\n",
       "    <tr>\n",
       "      <th>3232AD9F1B20EF57907F000001615250</th>\n",
       "      <td>0.0</td>\n",
       "      <td>0.0</td>\n",
       "      <td>0.0</td>\n",
       "      <td>0.0</td>\n",
       "      <td>0.0</td>\n",
       "      <td>0.0</td>\n",
       "      <td>0.0</td>\n",
       "      <td>0.0</td>\n",
       "      <td>0.0</td>\n",
       "      <td>0.0</td>\n",
       "      <td>...</td>\n",
       "      <td>0.0</td>\n",
       "      <td>0.0</td>\n",
       "      <td>0.0</td>\n",
       "      <td>0.0</td>\n",
       "      <td>0.0</td>\n",
       "      <td>0.0</td>\n",
       "      <td>0.0</td>\n",
       "      <td>0.0</td>\n",
       "      <td>0.0</td>\n",
       "      <td>0.0</td>\n",
       "    </tr>\n",
       "    <tr>\n",
       "      <th>3232AECD7274E2EDF37F000001615250</th>\n",
       "      <td>0.0</td>\n",
       "      <td>0.0</td>\n",
       "      <td>0.0</td>\n",
       "      <td>0.0</td>\n",
       "      <td>0.0</td>\n",
       "      <td>0.0</td>\n",
       "      <td>0.0</td>\n",
       "      <td>0.0</td>\n",
       "      <td>0.0</td>\n",
       "      <td>0.0</td>\n",
       "      <td>...</td>\n",
       "      <td>0.0</td>\n",
       "      <td>0.0</td>\n",
       "      <td>0.0</td>\n",
       "      <td>0.0</td>\n",
       "      <td>0.0</td>\n",
       "      <td>0.0</td>\n",
       "      <td>0.0</td>\n",
       "      <td>0.0</td>\n",
       "      <td>0.0</td>\n",
       "      <td>0.0</td>\n",
       "    </tr>\n",
       "  </tbody>\n",
       "</table>\n",
       "<p>5 rows × 7134 columns</p>\n",
       "</div>"
      ],
      "text/plain": [
       "COD_PRODUCTO                      2       10      19      24      25      \\\n",
       "UUID_CLIENTE_CONSUMIDOR                                                    \n",
       "3232A74E9E5AC632B67F000001615250     0.0     0.0     0.0     0.0     0.0   \n",
       "3232A86CD5286AA5E17F000001615250     0.0     0.0     0.0     0.0     0.0   \n",
       "3232AC8F6D324E487D7F000001615250     0.0     0.0     0.0     0.0     0.0   \n",
       "3232AD9F1B20EF57907F000001615250     0.0     0.0     0.0     0.0     0.0   \n",
       "3232AECD7274E2EDF37F000001615250     0.0     0.0     0.0     0.0     0.0   \n",
       "\n",
       "COD_PRODUCTO                      64      65      70      82      87      ...  \\\n",
       "UUID_CLIENTE_CONSUMIDOR                                                   ...   \n",
       "3232A74E9E5AC632B67F000001615250     0.0     0.0     0.0     0.0     0.0  ...   \n",
       "3232A86CD5286AA5E17F000001615250     0.0     0.0     0.0     0.0     0.0  ...   \n",
       "3232AC8F6D324E487D7F000001615250     0.0     0.0     0.0     0.0     0.0  ...   \n",
       "3232AD9F1B20EF57907F000001615250     0.0     0.0     0.0     0.0     0.0  ...   \n",
       "3232AECD7274E2EDF37F000001615250     0.0     0.0     0.0     0.0     0.0  ...   \n",
       "\n",
       "COD_PRODUCTO                      97994   97995   97996   97997   97998   \\\n",
       "UUID_CLIENTE_CONSUMIDOR                                                    \n",
       "3232A74E9E5AC632B67F000001615250     0.0     0.0     0.0     0.0     0.0   \n",
       "3232A86CD5286AA5E17F000001615250     0.0     0.0     0.0     0.0     0.0   \n",
       "3232AC8F6D324E487D7F000001615250     0.0     0.0     0.0     0.0     0.0   \n",
       "3232AD9F1B20EF57907F000001615250     0.0     0.0     0.0     0.0     0.0   \n",
       "3232AECD7274E2EDF37F000001615250     0.0     0.0     0.0     0.0     0.0   \n",
       "\n",
       "COD_PRODUCTO                      98034   98108   98130   98204   342421  \n",
       "UUID_CLIENTE_CONSUMIDOR                                                   \n",
       "3232A74E9E5AC632B67F000001615250     0.0     0.0     0.0     0.0     0.0  \n",
       "3232A86CD5286AA5E17F000001615250     0.0     0.0     0.0     0.0     0.0  \n",
       "3232AC8F6D324E487D7F000001615250     0.0     0.0     0.0     0.0     0.0  \n",
       "3232AD9F1B20EF57907F000001615250     0.0     0.0     0.0     0.0     0.0  \n",
       "3232AECD7274E2EDF37F000001615250     0.0     0.0     0.0     0.0     0.0  \n",
       "\n",
       "[5 rows x 7134 columns]"
      ]
     },
     "execution_count": 39,
     "metadata": {},
     "output_type": "execute_result"
    }
   ],
   "source": [
    "user_item_matrix.head()"
   ]
  },
  {
   "cell_type": "code",
   "execution_count": 40,
   "metadata": {},
   "outputs": [
    {
     "data": {
      "text/html": [
       "<div>\n",
       "<style scoped>\n",
       "    .dataframe tbody tr th:only-of-type {\n",
       "        vertical-align: middle;\n",
       "    }\n",
       "\n",
       "    .dataframe tbody tr th {\n",
       "        vertical-align: top;\n",
       "    }\n",
       "\n",
       "    .dataframe thead th {\n",
       "        text-align: right;\n",
       "    }\n",
       "</style>\n",
       "<table border=\"1\" class=\"dataframe\">\n",
       "  <thead>\n",
       "    <tr style=\"text-align: right;\">\n",
       "      <th></th>\n",
       "      <th>UUID_CLIENTE_CONSUMIDOR</th>\n",
       "      <th>DEPARTAMENTO</th>\n",
       "      <th>CIUDAD</th>\n",
       "      <th>GENERO_DIM_CLIENTE</th>\n",
       "      <th>FECHANACIMIENTO_DIM_CLIENTE</th>\n",
       "      <th>EDAD</th>\n",
       "    </tr>\n",
       "  </thead>\n",
       "  <tbody>\n",
       "    <tr>\n",
       "      <th>0</th>\n",
       "      <td>5F333C92C61098CC840A180313615250</td>\n",
       "      <td>ANTIOQUIA</td>\n",
       "      <td>MEDELLÍN</td>\n",
       "      <td>F</td>\n",
       "      <td>1984-05-03</td>\n",
       "      <td>40.0</td>\n",
       "    </tr>\n",
       "    <tr>\n",
       "      <th>1</th>\n",
       "      <td>323C3C3B1404F866097F000001615250</td>\n",
       "      <td>VALLE DEL CAUCA</td>\n",
       "      <td>CALI</td>\n",
       "      <td>F</td>\n",
       "      <td>1972-12-26</td>\n",
       "      <td>51.0</td>\n",
       "    </tr>\n",
       "    <tr>\n",
       "      <th>2</th>\n",
       "      <td>6C2FA988251C4F35BD0A180313615250</td>\n",
       "      <td>VALLE DEL CAUCA</td>\n",
       "      <td>CALI</td>\n",
       "      <td>F</td>\n",
       "      <td>1991-11-18</td>\n",
       "      <td>32.0</td>\n",
       "    </tr>\n",
       "    <tr>\n",
       "      <th>3</th>\n",
       "      <td>37908B3B6309B1549E7F000001615250</td>\n",
       "      <td>NORTE DE SANTANDER</td>\n",
       "      <td>PAMPLONA</td>\n",
       "      <td>F</td>\n",
       "      <td>1983-07-16</td>\n",
       "      <td>40.0</td>\n",
       "    </tr>\n",
       "    <tr>\n",
       "      <th>4</th>\n",
       "      <td>85C5EF6E09B085614D0A180327615250</td>\n",
       "      <td>BOGOTÁ, D.C.</td>\n",
       "      <td>BOGOTÁ, D.C.</td>\n",
       "      <td>Desconocido</td>\n",
       "      <td>NaT</td>\n",
       "      <td>NaN</td>\n",
       "    </tr>\n",
       "  </tbody>\n",
       "</table>\n",
       "</div>"
      ],
      "text/plain": [
       "            UUID_CLIENTE_CONSUMIDOR        DEPARTAMENTO        CIUDAD  \\\n",
       "0  5F333C92C61098CC840A180313615250           ANTIOQUIA      MEDELLÍN   \n",
       "1  323C3C3B1404F866097F000001615250     VALLE DEL CAUCA          CALI   \n",
       "2  6C2FA988251C4F35BD0A180313615250     VALLE DEL CAUCA          CALI   \n",
       "3  37908B3B6309B1549E7F000001615250  NORTE DE SANTANDER      PAMPLONA   \n",
       "4  85C5EF6E09B085614D0A180327615250        BOGOTÁ, D.C.  BOGOTÁ, D.C.   \n",
       "\n",
       "  GENERO_DIM_CLIENTE FECHANACIMIENTO_DIM_CLIENTE  EDAD  \n",
       "0                  F                  1984-05-03  40.0  \n",
       "1                  F                  1972-12-26  51.0  \n",
       "2                  F                  1991-11-18  32.0  \n",
       "3                  F                  1983-07-16  40.0  \n",
       "4        Desconocido                         NaT   NaN  "
      ]
     },
     "execution_count": 40,
     "metadata": {},
     "output_type": "execute_result"
    }
   ],
   "source": [
    "dataset_2['FECHANACIMIENTO_DIM_CLIENTE'] = pd.to_datetime(dataset_2['FECHANACIMIENTO_DIM_CLIENTE']).dt.date\n",
    "\n",
    "def calculate_age(birthdate):\n",
    "    today = date.today()\n",
    "    return today.year - birthdate.year - ((today.month, today.day) < (birthdate.month, birthdate.day))\n",
    "\n",
    "dataset_2['EDAD'] = dataset_2['FECHANACIMIENTO_DIM_CLIENTE'].apply(calculate_age)\n",
    "\n",
    "dataset_2.head()"
   ]
  },
  {
   "cell_type": "markdown",
   "metadata": {},
   "source": [
    "## Guardar"
   ]
  },
  {
   "cell_type": "code",
   "execution_count": 41,
   "metadata": {},
   "outputs": [],
   "source": [
    "dataset_1.to_csv(paths['StagingZone']['dataset_1'], sep=\";\")\n",
    "dataset_2.to_csv(paths['StagingZone']['dataset_2'], sep=\";\")\n",
    "productos.to_csv(paths['StagingZone']['productos'], sep=\";\")\n",
    "user_item_matrix.to_parquet(paths['StagingZone']['user_item_matrix'])"
   ]
  },
  {
   "cell_type": "markdown",
   "metadata": {},
   "source": [
    "# FIN\n",
    "---"
   ]
  }
 ],
 "metadata": {
  "kernelspec": {
   "display_name": "Python 3",
   "language": "python",
   "name": "python3"
  },
  "language_info": {
   "codemirror_mode": {
    "name": "ipython",
    "version": 3
   },
   "file_extension": ".py",
   "mimetype": "text/x-python",
   "name": "python",
   "nbconvert_exporter": "python",
   "pygments_lexer": "ipython3",
   "version": "3.8.0"
  }
 },
 "nbformat": 4,
 "nbformat_minor": 2
}
