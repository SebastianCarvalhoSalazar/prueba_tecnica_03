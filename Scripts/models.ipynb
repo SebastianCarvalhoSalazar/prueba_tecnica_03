{
 "cells": [
  {
   "cell_type": "markdown",
   "metadata": {},
   "source": [
    "<div style=\"text-align: center;\">\n",
    "  <h2><strong></strong></h2>\n",
    "</div>\n",
    "\n",
    "<center>\n",
    "\n",
    "## **Prueba Técnica Novaventa**\n",
    "## **Modelos**\n",
    "\n",
    "**Autor:** Sebastian Carvalho Salazar  \n",
    "\n",
    "</center>"
   ]
  },
  {
   "cell_type": "markdown",
   "metadata": {},
   "source": [
    "# IBCF"
   ]
  },
  {
   "cell_type": "code",
   "execution_count": null,
   "metadata": {},
   "outputs": [],
   "source": [
    "def recommend_products_ibcf(user_id, user_item_matrix, item_similarity_matrix, n_recommendations=3, k=3): \n",
    "    # Similitud coseno entre los productos\n",
    "    item_similarity_df = item_similarity_matrix\n",
    "    \n",
    "    # Obtener los productos que el usuario ha valorado\n",
    "    user_ratings = user_item_matrix.loc[user_id]\n",
    "    rated_items = user_ratings[user_ratings > 0].index\n",
    "    \n",
    "    # Calcular la puntuación ponderada de los productos\n",
    "    weighted_scores = {}\n",
    "    for item in user_item_matrix.columns:\n",
    "        if user_item_matrix.loc[user_id, item] == 0:  # Excluir productos que el usuario ya ha comprado\n",
    "            score = 0\n",
    "            similarity_sum = 0\n",
    "            for rated_item in rated_items:\n",
    "                similarity = item_similarity_df.loc[item, rated_item]\n",
    "                score += similarity * user_item_matrix.loc[user_id, rated_item]\n",
    "                similarity_sum += similarity\n",
    "            if similarity_sum != 0:\n",
    "                weighted_scores[item] = score / similarity_sum\n",
    "    \n",
    "    # Ordenar productos por la puntuación ponderada y devolver las recomendaciones\n",
    "    recommended_products = sorted(weighted_scores, key=weighted_scores.get, reverse=True)\n",
    "    recommended_products = recommended_products[:n_recommendations]\n",
    "\n",
    "    if not recommended_products:\n",
    "        # Si no hay recomendaciones basadas en la similitud, devolver los productos más populares\n",
    "        product_popularity = user_item_matrix.sum(axis=0).sort_values(ascending=False)\n",
    "        recommended_products = product_popularity.index[:n_recommendations].tolist()\n",
    "\n",
    "    return rated_items, recommended_products"
   ]
  },
  {
   "cell_type": "markdown",
   "metadata": {},
   "source": [
    "# UBCF"
   ]
  },
  {
   "cell_type": "code",
   "execution_count": null,
   "metadata": {},
   "outputs": [],
   "source": [
    "def recommend_products_ubcf(user_id, user_item_matrix, user_item_matrix_reduced, n_recommendations=3, k=3):\n",
    "    # Calcular similitud solo para el usuario elegido\n",
    "    user_vector = user_item_matrix_reduced.loc[user_id].values.reshape(1, -1)\n",
    "    other_users_matrix = user_item_matrix_reduced.drop(user_id).values\n",
    "    similarities = cosine_similarity(sparse.csr_matrix(user_vector), sparse.csr_matrix(other_users_matrix))[0]\n",
    "    similar_users = pd.Series(similarities, index=user_item_matrix.drop(user_id).index)\n",
    "    \n",
    "    # Seleccionar los k usuarios más similares\n",
    "    top_k_users = similar_users.nlargest(k)\n",
    "    \n",
    "    # Calcular la puntuación ponderada de los productos\n",
    "    weighted_scores = {}\n",
    "    for product in user_item_matrix.columns:\n",
    "        # Excluir productos que el usuario ya ha comprado\n",
    "        if user_item_matrix.loc[user_id, product] == 0:\n",
    "            score = 0\n",
    "            similarity_sum = 0\n",
    "            for similar_user in top_k_users.index:\n",
    "                if user_item_matrix.loc[similar_user, product] > 0:\n",
    "                    score += top_k_users[similar_user] * user_item_matrix.loc[similar_user, product]\n",
    "                    similarity_sum += top_k_users[similar_user]\n",
    "            if similarity_sum != 0:\n",
    "                weighted_scores[product] = score / similarity_sum\n",
    "    \n",
    "    # Ordenar productos por la puntuación ponderada y devolver las recomendaciones\n",
    "    recommended_products = sorted(weighted_scores, key=weighted_scores.get, reverse=True)\n",
    "    recommended_products = recommended_products[:n_recommendations]\n",
    "\n",
    "    if not recommended_products:\n",
    "      # Si no hay recomendaciones basadas en la similitud, devolver los productos más populares\n",
    "      product_popularity = user_item_matrix.sum(axis=0).sort_values(ascending=False)\n",
    "      recommended_products = product_popularity.index[:n_recommendations].tolist()\n",
    "\n",
    "    return top_k_users , recommended_products"
   ]
  },
  {
   "cell_type": "markdown",
   "metadata": {},
   "source": [
    "# FIN\n",
    "---"
   ]
  }
 ],
 "metadata": {
  "language_info": {
   "name": "python"
  }
 },
 "nbformat": 4,
 "nbformat_minor": 2
}
